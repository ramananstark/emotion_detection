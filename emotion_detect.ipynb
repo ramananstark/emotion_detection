{
 "cells": [
  {
   "cell_type": "code",
   "execution_count": 2,
   "metadata": {},
   "outputs": [],
   "source": [
    "import tensorflow as tf\n",
    "import keras\n",
    "from PIL import Image\n",
    "import matplotlib.pyplot as plt\n",
    "import numpy as np\n",
    "import pandas as pd\n",
    "from keras.preprocessing.image import ImageDataGenerator"
   ]
  },
  {
   "cell_type": "code",
   "execution_count": 3,
   "metadata": {},
   "outputs": [],
   "source": [
    "train_datagen = ImageDataGenerator(\n",
    "    rescale=1./255,\n",
    "    rotation_range=10,\n",
    "    fill_mode='nearest',\n",
    "    featurewise_center=True,\n",
    "    featurewise_std_normalization=True,\n",
    "    vertical_flip=True,\n",
    "    shear_range=0.2,\n",
    "    zoom_range=0.2,\n",
    "    brightness_range=(0.4,0.6),\n",
    "    horizontal_flip=True,\n",
    "    validation_split=0.2)\n",
    "test_datagen=ImageDataGenerator(\n",
    "    rescale=1./255\n",
    ")"
   ]
  },
  {
   "cell_type": "code",
   "execution_count": 4,
   "metadata": {},
   "outputs": [
    {
     "name": "stdout",
     "output_type": "stream",
     "text": [
      "Found 28709 images belonging to 7 classes.\n"
     ]
    }
   ],
   "source": [
    "train_generator=train_datagen.flow_from_directory(\n",
    "    'C:\\\\Users\\\\Sivaprasath\\\\Desktop\\\\RAMANAN\\\\emotion detextion\\\\archive\\\\train',\n",
    "    target_size=(48,48),\n",
    "    batch_size=64,\n",
    "    color_mode='grayscale',\n",
    "    class_mode='binary'\n",
    ")"
   ]
  },
  {
   "cell_type": "code",
   "execution_count": 5,
   "metadata": {},
   "outputs": [
    {
     "name": "stdout",
     "output_type": "stream",
     "text": [
      "Found 7178 images belonging to 7 classes.\n"
     ]
    }
   ],
   "source": [
    "test_generator=test_datagen.flow_from_directory(\n",
    "    \"C:\\\\Users\\\\Sivaprasath\\\\Desktop\\\\RAMANAN\\\\emotion detextion\\\\archive\\\\test\",\n",
    "    target_size=(48,48),\n",
    "    batch_size=64,\n",
    "    color_mode='grayscale',\n",
    "    class_mode='binary'\n",
    ")"
   ]
  },
  {
   "cell_type": "code",
   "execution_count": 6,
   "metadata": {},
   "outputs": [],
   "source": [
    "from keras import regularizers\n",
    "\n",
    "model =  tf.keras.Sequential([\n",
    "    tf.keras.layers.Conv2D(32,(3,3), activation='relu' ,input_shape = (48,48,1)),\n",
    "    tf.keras.layers.Conv2D(64,(3,3),  activation='relu'),\n",
    "    tf.keras.layers.BatchNormalization(),\n",
    "    tf.keras.layers.MaxPool2D(),\n",
    "    tf.keras.layers.Dropout(0.25),\n",
    "\n",
    "    tf.keras.layers.Conv2D(128,(3,3), activation='relu' , kernel_regularizer=regularizers.l2(0.01)),\n",
    "    tf.keras.layers.Conv2D(256,(3,3), activation='relu', kernel_regularizer=regularizers.l2(0.01)),\n",
    "    tf.keras.layers.BatchNormalization(),\n",
    "    tf.keras.layers.MaxPool2D(),\n",
    "    tf.keras.layers.Dropout(0.25),\n",
    "\n",
    "    tf.keras.layers.Flatten(),\n",
    "    tf.keras.layers.Dense(1024,activation='relu'),\n",
    "    tf.keras.layers.Dropout(0.5),\n",
    "    tf.keras.layers.Dense(7, activation='softmax')\n",
    "]) "
   ]
  },
  {
   "cell_type": "code",
   "execution_count": 7,
   "metadata": {},
   "outputs": [
    {
     "name": "stdout",
     "output_type": "stream",
     "text": [
      "Model: \"sequential\"\n",
      "_________________________________________________________________\n",
      " Layer (type)                Output Shape              Param #   \n",
      "=================================================================\n",
      " conv2d (Conv2D)             (None, 46, 46, 32)        320       \n",
      "                                                                 \n",
      " conv2d_1 (Conv2D)           (None, 44, 44, 64)        18496     \n",
      "                                                                 \n",
      " batch_normalization (BatchN  (None, 44, 44, 64)       256       \n",
      " ormalization)                                                   \n",
      "                                                                 \n",
      " max_pooling2d (MaxPooling2D  (None, 22, 22, 64)       0         \n",
      " )                                                               \n",
      "                                                                 \n",
      " dropout (Dropout)           (None, 22, 22, 64)        0         \n",
      "                                                                 \n",
      " conv2d_2 (Conv2D)           (None, 20, 20, 128)       73856     \n",
      "                                                                 \n",
      " conv2d_3 (Conv2D)           (None, 18, 18, 256)       295168    \n",
      "                                                                 \n",
      " batch_normalization_1 (Batc  (None, 18, 18, 256)      1024      \n",
      " hNormalization)                                                 \n",
      "                                                                 \n",
      " max_pooling2d_1 (MaxPooling  (None, 9, 9, 256)        0         \n",
      " 2D)                                                             \n",
      "                                                                 \n",
      " dropout_1 (Dropout)         (None, 9, 9, 256)         0         \n",
      "                                                                 \n",
      " flatten (Flatten)           (None, 20736)             0         \n",
      "                                                                 \n",
      " dense (Dense)               (None, 1024)              21234688  \n",
      "                                                                 \n",
      " dropout_2 (Dropout)         (None, 1024)              0         \n",
      "                                                                 \n",
      " dense_1 (Dense)             (None, 7)                 7175      \n",
      "                                                                 \n",
      "=================================================================\n",
      "Total params: 21,630,983\n",
      "Trainable params: 21,630,343\n",
      "Non-trainable params: 640\n",
      "_________________________________________________________________\n"
     ]
    }
   ],
   "source": [
    "model.summary()"
   ]
  },
  {
   "cell_type": "code",
   "execution_count": 8,
   "metadata": {},
   "outputs": [],
   "source": [
    "model.compile(\n",
    "    optimizer='adam',\n",
    "    loss='sparse_categorical_crossentropy',\n",
    "    metrics=['accuracy']\n",
    ")"
   ]
  },
  {
   "cell_type": "code",
   "execution_count": 9,
   "metadata": {},
   "outputs": [],
   "source": [
    "early=tf.keras.callbacks.EarlyStopping(\n",
    "    monitor='val_loss',\n",
    "    patience=5,\n",
    "    restore_best_weights=True\n",
    ")"
   ]
  },
  {
   "cell_type": "code",
   "execution_count": 10,
   "metadata": {},
   "outputs": [],
   "source": [
    "reduce_lr=tf.keras.callbacks.ReduceLROnPlateau(\n",
    "    monitor='val_loss',\n",
    "    factor=0.2,\n",
    "    patience=6,\n",
    "    verbose=1,\n",
    "    min_delta=0.0001\n",
    "    )"
   ]
  },
  {
   "cell_type": "code",
   "execution_count": 11,
   "metadata": {},
   "outputs": [
    {
     "name": "stderr",
     "output_type": "stream",
     "text": [
      "c:\\Users\\Sivaprasath\\anaconda3\\envs\\akaike\\lib\\site-packages\\keras\\preprocessing\\image.py:1863: UserWarning: This ImageDataGenerator specifies `featurewise_center`, but it hasn't been fit on any training data. Fit it first by calling `.fit(numpy_data)`.\n",
      "  warnings.warn(\n",
      "c:\\Users\\Sivaprasath\\anaconda3\\envs\\akaike\\lib\\site-packages\\keras\\preprocessing\\image.py:1873: UserWarning: This ImageDataGenerator specifies `featurewise_std_normalization`, but it hasn't been fit on any training data. Fit it first by calling `.fit(numpy_data)`.\n",
      "  warnings.warn(\n"
     ]
    },
    {
     "name": "stdout",
     "output_type": "stream",
     "text": [
      "Epoch 1/100\n",
      "449/449 [==============================] - 590s 1s/step - loss: 3.6565 - accuracy: 0.2696 - val_loss: 3.6821 - val_accuracy: 0.2154 - lr: 0.0010\n",
      "Epoch 2/100\n",
      "449/449 [==============================] - 199s 444ms/step - loss: 1.8768 - accuracy: 0.3388 - val_loss: 2.0489 - val_accuracy: 0.3396 - lr: 0.0010\n",
      "Epoch 3/100\n",
      "449/449 [==============================] - 206s 458ms/step - loss: 1.6844 - accuracy: 0.3618 - val_loss: 2.1695 - val_accuracy: 0.3197 - lr: 0.0010\n",
      "Epoch 4/100\n",
      "449/449 [==============================] - 205s 457ms/step - loss: 1.6129 - accuracy: 0.3865 - val_loss: 1.5370 - val_accuracy: 0.4025 - lr: 0.0010\n",
      "Epoch 5/100\n",
      "449/449 [==============================] - 214s 477ms/step - loss: 1.5822 - accuracy: 0.4033 - val_loss: 1.6048 - val_accuracy: 0.3945 - lr: 0.0010\n",
      "Epoch 6/100\n",
      "449/449 [==============================] - 207s 460ms/step - loss: 1.5458 - accuracy: 0.4177 - val_loss: 1.9742 - val_accuracy: 0.3070 - lr: 0.0010\n",
      "Epoch 7/100\n",
      "449/449 [==============================] - 202s 450ms/step - loss: 1.5234 - accuracy: 0.4304 - val_loss: 1.6427 - val_accuracy: 0.3830 - lr: 0.0010\n",
      "Epoch 8/100\n",
      "449/449 [==============================] - 206s 460ms/step - loss: 1.5018 - accuracy: 0.4398 - val_loss: 1.5013 - val_accuracy: 0.4391 - lr: 0.0010\n",
      "Epoch 9/100\n",
      "449/449 [==============================] - 211s 471ms/step - loss: 1.4822 - accuracy: 0.4489 - val_loss: 1.5834 - val_accuracy: 0.4288 - lr: 0.0010\n",
      "Epoch 10/100\n",
      "449/449 [==============================] - 462s 1s/step - loss: 1.4723 - accuracy: 0.4524 - val_loss: 1.8186 - val_accuracy: 0.3653 - lr: 0.0010\n",
      "Epoch 11/100\n",
      "449/449 [==============================] - 628s 1s/step - loss: 1.4578 - accuracy: 0.4586 - val_loss: 1.4776 - val_accuracy: 0.4567 - lr: 0.0010\n",
      "Epoch 12/100\n",
      "449/449 [==============================] - 423s 942ms/step - loss: 1.4515 - accuracy: 0.4640 - val_loss: 1.5054 - val_accuracy: 0.4395 - lr: 0.0010\n",
      "Epoch 13/100\n",
      "449/449 [==============================] - 228s 507ms/step - loss: 1.4380 - accuracy: 0.4683 - val_loss: 1.3878 - val_accuracy: 0.4855 - lr: 0.0010\n",
      "Epoch 14/100\n",
      "449/449 [==============================] - 212s 473ms/step - loss: 1.4360 - accuracy: 0.4679 - val_loss: 1.4222 - val_accuracy: 0.4635 - lr: 0.0010\n",
      "Epoch 15/100\n",
      "449/449 [==============================] - 227s 506ms/step - loss: 1.4268 - accuracy: 0.4743 - val_loss: 1.5456 - val_accuracy: 0.4432 - lr: 0.0010\n",
      "Epoch 16/100\n",
      "449/449 [==============================] - 202s 449ms/step - loss: 1.4136 - accuracy: 0.4741 - val_loss: 1.4278 - val_accuracy: 0.4755 - lr: 0.0010\n",
      "Epoch 17/100\n",
      "449/449 [==============================] - 202s 450ms/step - loss: 1.4080 - accuracy: 0.4806 - val_loss: 1.4173 - val_accuracy: 0.4811 - lr: 0.0010\n",
      "Epoch 18/100\n",
      "449/449 [==============================] - 203s 451ms/step - loss: 1.4007 - accuracy: 0.4844 - val_loss: 1.4103 - val_accuracy: 0.4790 - lr: 0.0010\n"
     ]
    }
   ],
   "source": [
    "history=model.fit(\n",
    "    train_generator,\n",
    "    validation_data=test_generator,\n",
    "    callbacks=[early,reduce_lr],\n",
    "    epochs=100\n",
    ")"
   ]
  },
  {
   "cell_type": "code",
   "execution_count": 12,
   "metadata": {},
   "outputs": [],
   "source": [
    "model.save('emodet.h5')"
   ]
  },
  {
   "cell_type": "code",
   "execution_count": null,
   "metadata": {},
   "outputs": [],
   "source": []
  },
  {
   "cell_type": "markdown",
   "metadata": {},
   "source": []
  }
 ],
 "metadata": {
  "kernelspec": {
   "display_name": "akaike",
   "language": "python",
   "name": "python3"
  },
  "language_info": {
   "codemirror_mode": {
    "name": "ipython",
    "version": 3
   },
   "file_extension": ".py",
   "mimetype": "text/x-python",
   "name": "python",
   "nbconvert_exporter": "python",
   "pygments_lexer": "ipython3",
   "version": "3.9.18"
  }
 },
 "nbformat": 4,
 "nbformat_minor": 2
}
